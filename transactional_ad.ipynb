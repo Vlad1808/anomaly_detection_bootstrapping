{
 "cells": [
  {
   "cell_type": "markdown",
   "id": "7ebdb313",
   "metadata": {},
   "source": [
    "# Regulatory Data Processing Notebook"
   ]
  },
  {
   "cell_type": "code",
   "execution_count": null,
   "id": "5c093e46",
   "metadata": {},
   "outputs": [],
   "source": [
    "\n",
    "import pandas as pd\n",
    "import numpy as np\n",
    "import matplotlib.pyplot as plt\n",
    "from sklearn.cluster import KMeans\n",
    "from sklearn.tree import DecisionTreeClassifier\n",
    "from sklearn.ensemble import RandomForestClassifier, GradientBoostingClassifier\n",
    "from sklearn.model_selection import train_test_split, cross_val_score\n",
    "from scipy.stats import zscore\n",
    "import seaborn as sns\n",
    "import datetime as dt\n",
    "from sklearn.preprocessing import MinMaxScaler\n",
    "from sklearn.metrics import classification_report, confusion_matrix, roc_auc_score, roc_curve\n"
   ]
  },
  {
   "cell_type": "code",
   "execution_count": null,
   "id": "9b3ee7e0",
   "metadata": {},
   "outputs": [],
   "source": [
    "\n",
    "# Simulate a dataset that could be used for a regulatory project\n",
    "data = {\n",
    "    'transaction_id': range(1, 5001),\n",
    "    'client_id': np.random.randint(1000, 1100, size=5000),\n",
    "    'transaction_amount': np.random.uniform(10.0, 15000.0, size=5000),\n",
    "    'transaction_type': np.random.choice(['deposit', 'withdrawal', 'transfer', 'payment'], size=5000),\n",
    "    'transaction_date': pd.date_range(start='2023-01-01', periods=5000, freq='H'),\n",
    "    'compliance_flag': np.random.choice([True, False], size=5000, p=[0.9, 0.1]),\n",
    "    'account_balance': np.random.uniform(100.0, 100000.0, size=5000),\n",
    "    'location': np.random.choice(['NY', 'CA', 'TX', 'FL', 'IL'], size=5000)\n",
    "}\n",
    "\n",
    "# Create a DataFrame\n",
    "df = pd.DataFrame(data)\n",
    "\n",
    "# Add synthetic client profile data\n",
    "profile_data = {\n",
    "    'client_id': range(1000, 1100),\n",
    "    'client_age': np.random.randint(18, 85, size=100),\n",
    "    'client_income': np.random.uniform(30000, 200000, size=100),\n",
    "    'client_segment': np.random.choice(['retail', 'commercial', 'private'], size=100)\n",
    "}\n",
    "\n",
    "profile_df = pd.DataFrame(profile_data)\n",
    "\n",
    "# Join profile data to the main dataset\n",
    "df = df.merge(profile_df, on='client_id', how='left')\n",
    "\n",
    "# Display the first few rows of the dataset\n",
    "print(\"Initial Dataset:\")\n",
    "print(df.head())\n"
   ]
  },
  {
   "cell_type": "code",
   "execution_count": null,
   "id": "c642d348",
   "metadata": {},
   "outputs": [],
   "source": [
    "\n",
    "# Validate transaction dates\n",
    "invalid_dates = df[df['transaction_date'] > dt.datetime.now()]\n",
    "print(\"\n",
    "Invalid Transaction Dates:\")\n",
    "print(invalid_dates)\n"
   ]
  },
  {
   "cell_type": "code",
   "execution_count": null,
   "id": "b9c6406f",
   "metadata": {},
   "outputs": [],
   "source": [
    "\n",
    "# Additional processing steps and visualizations continue here from the canvas document.\n",
    "# (For brevity, include each individual section of the provided document here.)\n"
   ]
  }
 ],
 "metadata": {},
 "nbformat": 4,
 "nbformat_minor": 5
}
